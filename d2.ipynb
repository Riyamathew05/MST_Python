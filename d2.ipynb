{
  "nbformat": 4,
  "nbformat_minor": 0,
  "metadata": {
    "colab": {
      "provenance": []
    },
    "kernelspec": {
      "name": "python3",
      "display_name": "Python 3"
    },
    "language_info": {
      "name": "python"
    }
  },
  "cells": [
    {
      "cell_type": "markdown",
      "source": [
        "1. Sum of all elements in the list\n"
      ],
      "metadata": {
        "id": "Q8LoTXFNYcAC"
      }
    },
    {
      "cell_type": "code",
      "source": [
        "num=[12,32,43,5,76,22]\n",
        "print(sum(num))"
      ],
      "metadata": {
        "colab": {
          "base_uri": "https://localhost:8080/"
        },
        "id": "bo3EpKE7YiGR",
        "outputId": "88af72c3-1ba9-43a0-c602-99f2772d4326"
      },
      "execution_count": null,
      "outputs": [
        {
          "output_type": "stream",
          "name": "stdout",
          "text": [
            "190\n"
          ]
        }
      ]
    },
    {
      "cell_type": "markdown",
      "source": [
        "2. Print length and half length of a string"
      ],
      "metadata": {
        "id": "ODADEDSAc6hs"
      }
    },
    {
      "cell_type": "code",
      "source": [
        "str1=\"Python Programming\"\n",
        "L=len(str1)\n",
        "print(f\"The length of the string {str1} is \",L)\n",
        "print(f\"The half length of the string is \",str1[:L//2])"
      ],
      "metadata": {
        "colab": {
          "base_uri": "https://localhost:8080/"
        },
        "id": "8_Vc0E6uY4xr",
        "outputId": "7acae42d-d1ea-4821-e061-aad02cd525c3"
      },
      "execution_count": null,
      "outputs": [
        {
          "output_type": "stream",
          "name": "stdout",
          "text": [
            "The length of the string Python Programming is  18\n",
            "The half length of the string is  Python Pr\n"
          ]
        }
      ]
    },
    {
      "cell_type": "markdown",
      "source": [
        "3. To change the third value in a tuple"
      ],
      "metadata": {
        "id": "VwtNAi-LfMqg"
      }
    },
    {
      "cell_type": "code",
      "source": [
        "values=(78,45,32,19,82,77,40,39)\n",
        "x=list(values)\n",
        "x[2]=100\n",
        "values=tuple(x)\n",
        "print(values)"
      ],
      "metadata": {
        "colab": {
          "base_uri": "https://localhost:8080/"
        },
        "id": "WmG_xrKUdEdO",
        "outputId": "8ad188dc-5d89-4627-81c7-d2f86353bc67"
      },
      "execution_count": null,
      "outputs": [
        {
          "output_type": "stream",
          "name": "stdout",
          "text": [
            "(78, 45, 100, 19, 82, 77, 40, 39)\n"
          ]
        }
      ]
    },
    {
      "cell_type": "markdown",
      "source": [
        "\n",
        "4. Consider a list a=[19,32,10,55,31,32,94,29,10,65,77,40,40]\n",
        "a.delete the first occurrence of 40"
      ],
      "metadata": {
        "id": "b2qxnPEuijsw"
      }
    },
    {
      "cell_type": "code",
      "source": [
        "a=[19,32,10,55,31,32,94,29,10,65,77,40,40]\n",
        "a.remove(32)\n",
        "print(a)"
      ],
      "metadata": {
        "colab": {
          "base_uri": "https://localhost:8080/"
        },
        "id": "ygoVirmjfJgv",
        "outputId": "1964cbb6-af08-405a-97f6-e60b84b1a761"
      },
      "execution_count": null,
      "outputs": [
        {
          "output_type": "stream",
          "name": "stdout",
          "text": [
            "[19, 32, 10, 55, 31, 32, 94, 29, 10, 65, 77, 40]\n"
          ]
        }
      ]
    },
    {
      "cell_type": "markdown",
      "source": [
        "b. Delete all occurrence of 40\n",
        "\n"
      ],
      "metadata": {
        "id": "RRQRqp9jiia1"
      }
    },
    {
      "cell_type": "code",
      "source": [
        "a=[19,32,10,55,31,32,94,29,10,65,77,40,40]\n",
        "a=list(filter((40).__ne__,a))\n",
        "print(a)"
      ],
      "metadata": {
        "colab": {
          "base_uri": "https://localhost:8080/"
        },
        "id": "F4uS62W9rM1g",
        "outputId": "3a873715-47e2-48ce-c74a-9dce5cd13c0b"
      },
      "execution_count": null,
      "outputs": [
        {
          "output_type": "stream",
          "name": "stdout",
          "text": [
            "[19, 32, 10, 55, 31, 32, 94, 29, 10, 65, 77]\n"
          ]
        }
      ]
    },
    {
      "cell_type": "markdown",
      "source": [
        "c. delete the value at index5"
      ],
      "metadata": {
        "id": "xjJ4mdq6wTis"
      }
    },
    {
      "cell_type": "code",
      "source": [
        "a=[19, 32, 10, 55, 31, 32, 94, 29, 10, 65, 77]\n",
        "\n",
        "del(a[5])\n",
        "print(f\"the new list is {a}\")"
      ],
      "metadata": {
        "colab": {
          "base_uri": "https://localhost:8080/"
        },
        "id": "kBLNtwd9wdRA",
        "outputId": "10138d7f-4c1a-4f90-8a64-2d50b16d217f"
      },
      "execution_count": null,
      "outputs": [
        {
          "output_type": "stream",
          "name": "stdout",
          "text": [
            "the new list is [19, 32, 10, 55, 31, 94, 29, 10, 65, 77]\n"
          ]
        }
      ]
    },
    {
      "cell_type": "markdown",
      "source": [
        "d. Mdify the value at index 9v as 300\n",
        "\n"
      ],
      "metadata": {
        "id": "0KuIKvrnL9Zf"
      }
    },
    {
      "cell_type": "code",
      "source": [
        "a=[19, 32, 10, 55, 31, 94, 29, 10, 65, 77]\n",
        "\n",
        "a[9]=300\n",
        "print(a)"
      ],
      "metadata": {
        "id": "baGgflRaiebK",
        "colab": {
          "base_uri": "https://localhost:8080/"
        },
        "outputId": "9b64cc40-f55c-411d-d9ea-cc3d7c3abd53"
      },
      "execution_count": null,
      "outputs": [
        {
          "output_type": "stream",
          "name": "stdout",
          "text": [
            "[19, 32, 10, 55, 31, 94, 29, 10, 65, 300]\n"
          ]
        }
      ]
    },
    {
      "cell_type": "markdown",
      "source": [
        "e. add 200 at index 2"
      ],
      "metadata": {
        "id": "Fd1yY_4YL7ML"
      }
    },
    {
      "cell_type": "code",
      "source": [
        "a=[19, 32, 10, 55, 31, 94, 29, 10, 65, 300]\n",
        "a[2]=a[2]+200\n",
        "print(a)\n"
      ],
      "metadata": {
        "colab": {
          "base_uri": "https://localhost:8080/"
        },
        "id": "Zy47IBqwNjZJ",
        "outputId": "059c3e5f-8cee-4eb0-929c-d0befd6ba44a"
      },
      "execution_count": null,
      "outputs": [
        {
          "output_type": "stream",
          "name": "stdout",
          "text": [
            "[19, 32, 210, 55, 31, 94, 29, 10, 65, 300]\n"
          ]
        }
      ]
    },
    {
      "cell_type": "markdown",
      "source": [
        "f. print final list with its length,maximum value ,sum of all elements"
      ],
      "metadata": {
        "id": "8TICDuNwN_o5"
      }
    },
    {
      "cell_type": "code",
      "source": [
        "a=[19, 32, 10, 55, 31, 94, 29, 10, 65, 300]\n",
        "print(f\"The final list is {a} with maximum length is {len(a)} \")\n",
        "print(f'the maximun value in a is {max(a)}')\n",
        "print(f'the sum of a is {sum(a)}')"
      ],
      "metadata": {
        "id": "I8Ps-Hwef7jF",
        "colab": {
          "base_uri": "https://localhost:8080/"
        },
        "outputId": "68909e82-487e-495f-9640-f5203ed35ff9"
      },
      "execution_count": null,
      "outputs": [
        {
          "output_type": "stream",
          "name": "stdout",
          "text": [
            "The final list is [19, 32, 10, 55, 31, 94, 29, 10, 65, 300] with maximum length is 10 \n",
            "the maximun value in a is 300\n",
            "the sum of a is 645\n"
          ]
        }
      ]
    },
    {
      "cell_type": "markdown",
      "source": [
        "5. Consider the string \"The day has been long\", delete the value at index 4"
      ],
      "metadata": {
        "id": "ApF65zWsW2z1"
      }
    },
    {
      "cell_type": "code",
      "source": [
        "s1=\"The day has been long\"\n",
        "new_s1=s1[:4]+s1[5:]\n",
        "print(new_s1)"
      ],
      "metadata": {
        "colab": {
          "base_uri": "https://localhost:8080/"
        },
        "id": "VnAN4da4XKpC",
        "outputId": "ee4c4572-f528-4f18-ff5d-49120fc66236"
      },
      "execution_count": 4,
      "outputs": [
        {
          "output_type": "stream",
          "name": "stdout",
          "text": [
            "The ay has been long\n"
          ]
        }
      ]
    },
    {
      "cell_type": "markdown",
      "source": [],
      "metadata": {
        "id": "4UGvkRRh6_ak"
      }
    },
    {
      "cell_type": "markdown",
      "source": [
        "b.Print the string 4 timesin a single line with space"
      ],
      "metadata": {
        "id": "i6yWUXMX6Mfv"
      }
    },
    {
      "cell_type": "code",
      "source": [
        "print('The day has been long ' *4)\n"
      ],
      "metadata": {
        "colab": {
          "base_uri": "https://localhost:8080/"
        },
        "id": "H_sNrJLm6Wyc",
        "outputId": "538be6d1-9d57-486e-eb20-4138c8fcf4ea"
      },
      "execution_count": 19,
      "outputs": [
        {
          "output_type": "stream",
          "name": "stdout",
          "text": [
            "The day has been long The day has been long The day has been long The day has been long \n"
          ]
        }
      ]
    },
    {
      "cell_type": "markdown",
      "source": [
        "c.print the string 3btimes in a new line"
      ],
      "metadata": {
        "id": "0ibOeg_1ASFh"
      }
    },
    {
      "cell_type": "code",
      "source": [
        "print('The day has been long \\n' *4)\n"
      ],
      "metadata": {
        "id": "dRsoLGJQfzol",
        "colab": {
          "base_uri": "https://localhost:8080/"
        },
        "outputId": "7d38a5b9-4e09-44ba-8db4-0c8fe5d4e2c4"
      },
      "execution_count": 20,
      "outputs": [
        {
          "output_type": "stream",
          "name": "stdout",
          "text": [
            "The day has been long \n",
            "The day has been long \n",
            "The day has been long \n",
            "The day has been long \n",
            "\n"
          ]
        }
      ]
    },
    {
      "cell_type": "markdown",
      "source": [
        "d.Modify the string at index 7 as 'A'"
      ],
      "metadata": {
        "id": "l_udycfZ_m1A"
      }
    },
    {
      "cell_type": "code",
      "source": [
        "s1=\"The day has been long\"\n",
        "#x=7\n",
        "r=\"A\"\n",
        "new_s1= s1[:6] + r + s1[7:]\n",
        "print(new_s1)"
      ],
      "metadata": {
        "colab": {
          "base_uri": "https://localhost:8080/"
        },
        "id": "JK0N9sip_zKe",
        "outputId": "ea72a81c-d414-48ff-a2c1-8e83c34af6da"
      },
      "execution_count": 13,
      "outputs": [
        {
          "output_type": "stream",
          "name": "stdout",
          "text": [
            "The daA has been long\n"
          ]
        }
      ]
    },
    {
      "cell_type": "markdown",
      "source": [],
      "metadata": {
        "id": "NbbSMAtgWNh9"
      }
    },
    {
      "cell_type": "markdown",
      "source": [
        "e. Print he string from index 4 to15\n"
      ],
      "metadata": {
        "id": "w6lZeF8BWCNx"
      }
    },
    {
      "cell_type": "code",
      "source": [
        "s1=\"The day has been long\"\n",
        "print(s1[4:16])"
      ],
      "metadata": {
        "id": "Umqur9dmfx94",
        "colab": {
          "base_uri": "https://localhost:8080/"
        },
        "outputId": "d9c1ef20-8f95-4892-924b-5d4ee31f481d"
      },
      "execution_count": 15,
      "outputs": [
        {
          "output_type": "stream",
          "name": "stdout",
          "text": [
            "day has been\n"
          ]
        }
      ]
    },
    {
      "cell_type": "markdown",
      "source": [
        "f. Print the final string with its length"
      ],
      "metadata": {
        "id": "Fu2ZjxHmmdfr"
      }
    },
    {
      "cell_type": "code",
      "source": [
        "s1=\"day has been\"\n",
        "print(s1)\n",
        "print(f\"the length of the string is {len(s1)}\")\n"
      ],
      "metadata": {
        "colab": {
          "base_uri": "https://localhost:8080/"
        },
        "id": "Es6K5YSpmsG-",
        "outputId": "8953c37c-4351-46b1-dd41-81f366d66350"
      },
      "execution_count": 29,
      "outputs": [
        {
          "output_type": "stream",
          "name": "stdout",
          "text": [
            "day has been\n",
            "the length of the string is 12\n"
          ]
        }
      ]
    }
  ]
}
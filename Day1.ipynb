{
  "nbformat": 4,
  "nbformat_minor": 0,
  "metadata": {
    "colab": {
      "provenance": []
    },
    "kernelspec": {
      "name": "python3",
      "display_name": "Python 3"
    },
    "language_info": {
      "name": "python"
    }
  },
  "cells": [
    {
      "cell_type": "code",
      "execution_count": null,
      "metadata": {
        "colab": {
          "base_uri": "https://localhost:8080/"
        },
        "id": "8gxWvK6lxFYZ",
        "outputId": "6bcdc32f-9c9b-431b-adad-233f81fd9543"
      },
      "outputs": [
        {
          "output_type": "stream",
          "name": "stdout",
          "text": [
            "Hello\n"
          ]
        }
      ],
      "source": [
        "s=\"Hello, World\"\n",
        "print(s[0:5])"
      ]
    },
    {
      "cell_type": "markdown",
      "source": [
        "Question 2"
      ],
      "metadata": {
        "id": "lP61l-nS_ocF"
      }
    },
    {
      "cell_type": "code",
      "source": [
        "s=\"Python is fun\"\n",
        "print(s[7:9])"
      ],
      "metadata": {
        "colab": {
          "base_uri": "https://localhost:8080/"
        },
        "id": "aN11ObqtxmFG",
        "outputId": "f1fa071e-32ee-4900-d3f9-71b8b37cf221"
      },
      "execution_count": null,
      "outputs": [
        {
          "output_type": "stream",
          "name": "stdout",
          "text": [
            "is\n"
          ]
        }
      ]
    },
    {
      "cell_type": "markdown",
      "source": [
        "Question 3"
      ],
      "metadata": {
        "id": "Py5cqHzh_ypv"
      }
    },
    {
      "cell_type": "code",
      "source": [
        "s=\"Programming\"\n",
        "print(s[3:7])"
      ],
      "metadata": {
        "colab": {
          "base_uri": "https://localhost:8080/"
        },
        "id": "kKEhcToGyEjc",
        "outputId": "ce705c24-9097-406d-88ad-f4d4b259a120"
      },
      "execution_count": null,
      "outputs": [
        {
          "output_type": "stream",
          "name": "stdout",
          "text": [
            "gram\n"
          ]
        }
      ]
    },
    {
      "cell_type": "markdown",
      "source": [
        "question 4"
      ],
      "metadata": {
        "id": "npB5UA4O_wWc"
      }
    },
    {
      "cell_type": "code",
      "source": [
        "s=\"abcdefg\"\n",
        "print(s[0:7:2])"
      ],
      "metadata": {
        "colab": {
          "base_uri": "https://localhost:8080/"
        },
        "id": "7FV1XpjuyvmV",
        "outputId": "9cdbecd1-20dc-48fd-b504-2c6fe6b5427f"
      },
      "execution_count": null,
      "outputs": [
        {
          "output_type": "stream",
          "name": "stdout",
          "text": [
            "aceg\n"
          ]
        }
      ]
    },
    {
      "cell_type": "markdown",
      "source": [
        "question 5"
      ],
      "metadata": {
        "id": "LizeAZWBAAYK"
      }
    },
    {
      "cell_type": "code",
      "source": [
        "s=\"abcdefg\"\n",
        "print(s[-3:])"
      ],
      "metadata": {
        "colab": {
          "base_uri": "https://localhost:8080/"
        },
        "id": "aDdYurxkzyuu",
        "outputId": "6849dba8-9f04-485c-ce1b-91a7cafd3fc2"
      },
      "execution_count": 6,
      "outputs": [
        {
          "output_type": "stream",
          "name": "stdout",
          "text": [
            "efg\n"
          ]
        }
      ]
    },
    {
      "cell_type": "markdown",
      "source": [
        "question 6"
      ],
      "metadata": {
        "id": "mCWQdc1OBMxw"
      }
    },
    {
      "cell_type": "code",
      "source": [
        "s=\"Data Science\"\n",
        "print(s[-3:])\n",
        "\n"
      ],
      "metadata": {
        "colab": {
          "base_uri": "https://localhost:8080/"
        },
        "id": "09tNpEDA_tsv",
        "outputId": "3d495473-d166-493a-8d35-bb6f8bbd6f89"
      },
      "execution_count": null,
      "outputs": [
        {
          "output_type": "stream",
          "name": "stdout",
          "text": [
            "nce\n"
          ]
        }
      ]
    },
    {
      "cell_type": "markdown",
      "source": [
        "question 7"
      ],
      "metadata": {
        "id": "V4VIsij8BSX8"
      }
    },
    {
      "cell_type": "code",
      "source": [
        "s=\"abcdefg\"\n",
        "print(s[0:7:2])"
      ],
      "metadata": {
        "colab": {
          "base_uri": "https://localhost:8080/"
        },
        "id": "SZ_NRMspC_yh",
        "outputId": "ea7f2faf-f342-4a31-ac3b-51100b8ea434"
      },
      "execution_count": null,
      "outputs": [
        {
          "output_type": "stream",
          "name": "stdout",
          "text": [
            "aceg\n"
          ]
        }
      ]
    },
    {
      "cell_type": "markdown",
      "source": [
        "question 8"
      ],
      "metadata": {
        "id": "VUQPH90BBaCm"
      }
    },
    {
      "cell_type": "code",
      "source": [
        "s=\"1234567890\"\n",
        "print(s[0:9:2])\n"
      ],
      "metadata": {
        "colab": {
          "base_uri": "https://localhost:8080/"
        },
        "id": "Uu7I3pxwDWqf",
        "outputId": "08e2e0dd-d3a6-48df-b323-6bcfadd4e1fe"
      },
      "execution_count": null,
      "outputs": [
        {
          "output_type": "stream",
          "name": "stdout",
          "text": [
            "13579\n"
          ]
        }
      ]
    },
    {
      "cell_type": "markdown",
      "source": [
        "question 9"
      ],
      "metadata": {
        "id": "4iy4jwekBmX_"
      }
    },
    {
      "cell_type": "code",
      "source": [
        "s=\"Hello\"\n",
        "print(s[::-1])"
      ],
      "metadata": {
        "colab": {
          "base_uri": "https://localhost:8080/"
        },
        "id": "MmLhvepxD-l5",
        "outputId": "98342c93-5c05-4b70-f680-cc800687bace"
      },
      "execution_count": null,
      "outputs": [
        {
          "output_type": "stream",
          "name": "stdout",
          "text": [
            "olleH\n"
          ]
        }
      ]
    },
    {
      "cell_type": "markdown",
      "source": [
        "question 10"
      ],
      "metadata": {
        "id": "J1O1JI-RBqv-"
      }
    },
    {
      "cell_type": "code",
      "source": [
        "s=\"abcdefghijk\"\n",
        "print(s[0:11:2])"
      ],
      "metadata": {
        "colab": {
          "base_uri": "https://localhost:8080/"
        },
        "id": "izqi9SdpFndd",
        "outputId": "5e76f246-8a2b-40e7-b81e-2a17b206084e"
      },
      "execution_count": null,
      "outputs": [
        {
          "output_type": "stream",
          "name": "stdout",
          "text": [
            "acegik\n"
          ]
        }
      ]
    }
  ]
}
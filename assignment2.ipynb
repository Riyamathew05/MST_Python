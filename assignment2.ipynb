{
  "nbformat": 4,
  "nbformat_minor": 0,
  "metadata": {
    "colab": {
      "provenance": []
    },
    "kernelspec": {
      "name": "python3",
      "display_name": "Python 3"
    },
    "language_info": {
      "name": "python"
    }
  },
  "cells": [
    {
      "cell_type": "code",
      "execution_count": 28,
      "metadata": {
        "colab": {
          "base_uri": "https://localhost:8080/"
        },
        "id": "tbfgpX8TZVcW",
        "outputId": "afa8a67e-8881-414e-9821-2107a1a0a746"
      },
      "outputs": [
        {
          "output_type": "stream",
          "name": "stdout",
          "text": [
            "enter a number between 1 and 108\n",
            "Too high! Try again\n",
            "Re-enter a number between 1 and 107\n",
            "Too high! Try again\n",
            "Re-enter a number between 1 and 104\n",
            "Too low!! Tryagain\n",
            "Re-enter a number between 1 and 105\n",
            "Congratulations!!!!\n"
          ]
        }
      ],
      "source": [
        "secretNumber=5\n",
        "guess=int(input(\"enter a number between 1 and 10\"))\n",
        "while True:\n",
        " if guess==secretNumber:\n",
        "  print(\"Congratulations!!!!\")\n",
        "  break\n",
        " elif guess>secretNumber:\n",
        "  print(\"Too high! Try again\")\n",
        "  guess=int(input(\"Re-enter a number between 1 and 10\"))\n",
        " else:\n",
        "  print(\"Too low!! Tryagain\")\n",
        "  guess=int(input(\"Re-enter a number between 1 and 10\"))\n",
        "\n"
      ]
    },
    {
      "cell_type": "code",
      "source": [
        "n=int(input(\"Enter the number\"))\n",
        "fact=1\n",
        "while True:\n",
        "  if(n==1) or (n==0):\n",
        "    print(f\" Factorial of {n} is {fact}\")\n",
        "    break\n",
        "  elif n>1:\n",
        "    for i in range(1,n+1):\n",
        "      fact=fact*i\n",
        "      #break\n",
        "    print(f\" Factorial of {n} is {fact}\")\n",
        "\n",
        "    break\n",
        "\n",
        "\n"
      ],
      "metadata": {
        "colab": {
          "base_uri": "https://localhost:8080/"
        },
        "id": "3L9jxM9-g2BZ",
        "outputId": "c751da9c-ad90-465c-cfac-2932d859b0a0"
      },
      "execution_count": 67,
      "outputs": [
        {
          "output_type": "stream",
          "name": "stdout",
          "text": [
            "Enter the number5\n",
            " Factorial of 5 is 120\n"
          ]
        }
      ]
    },
    {
      "cell_type": "code",
      "source": [
        "L= int(input(\"Enter the appropriate length of the photo\"))\n",
        "N=int(input(\"Enter the number of photos\"))\n",
        "while(N>0):\n",
        "  W=int(input(\"Enter the width of photos\"))\n",
        "  H=int(input(\"Enter the height of photos\"))\n",
        "  if(W<L)or(H<L):\n",
        "    print(\"UPLOAD ANOTHER!!!!\")\n",
        "    N=N-1\n",
        "  elif(W==L)and(H==L):\n",
        "    print(\"ACCEPTED!!!!\")\n",
        "    N=N-1\n",
        "  else:\n",
        "    print(\"CROP IT!!!!\")\n",
        "\n",
        "    N=N-1\n",
        "\n",
        "\n",
        "\n",
        "\n"
      ],
      "metadata": {
        "colab": {
          "base_uri": "https://localhost:8080/"
        },
        "id": "2dq33AC-nAJv",
        "outputId": "49b51d81-e32d-46f9-b2d2-45363ce91bff"
      },
      "execution_count": 89,
      "outputs": [
        {
          "output_type": "stream",
          "name": "stdout",
          "text": [
            "Enter the appropriate length of the photo7\n",
            "Enter the number of photos4\n",
            "Enter the width of photos8\n",
            "Enter the height of photos9\n",
            "CROP IT!!!!\n",
            "Enter the width of photos6\n",
            "Enter the height of photos5\n",
            "UPLOAD ANOTHER!!!!\n",
            "Enter the width of photos7\n",
            "Enter the height of photos7\n",
            "ACCEPTED!!!!\n",
            "Enter the width of photos7\n",
            "Enter the height of photos9\n",
            "CROP IT!!!!\n"
          ]
        }
      ]
    }
  ]
}
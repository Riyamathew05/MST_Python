{
  "nbformat": 4,
  "nbformat_minor": 0,
  "metadata": {
    "colab": {
      "provenance": []
    },
    "kernelspec": {
      "name": "python3",
      "display_name": "Python 3"
    },
    "language_info": {
      "name": "python"
    }
  },
  "cells": [
    {
      "cell_type": "code",
      "execution_count": null,
      "metadata": {
        "id": "_eJ85Q8DqxTr"
      },
      "outputs": [],
      "source": []
    },
    {
      "cell_type": "markdown",
      "source": [
        "1. prm to find mid value"
      ],
      "metadata": {
        "id": "SHAZouH_rAiU"
      }
    },
    {
      "cell_type": "code",
      "source": [
        "def find_mid(x,y,z):\n",
        "  values=[x,y,z]\n",
        "  values.sort()\n",
        "  return values[1]\n",
        "ans=find_mid(32,15,78)\n",
        "print(\"The mid valueis\",ans)"
      ],
      "metadata": {
        "colab": {
          "base_uri": "https://localhost:8080/"
        },
        "id": "oWd8kb_grIi1",
        "outputId": "74197cb0-5e5e-4430-af0d-f4c55d75b061"
      },
      "execution_count": 2,
      "outputs": [
        {
          "output_type": "stream",
          "name": "stdout",
          "text": [
            "The mid valueis 32\n"
          ]
        }
      ]
    },
    {
      "cell_type": "markdown",
      "source": [
        "2.simple calculator\n"
      ],
      "metadata": {
        "id": "-MS94eWGsNEf"
      }
    },
    {
      "cell_type": "code",
      "source": [
        "\n",
        "def add(x,y):\n",
        "  return x+y\n",
        "def sub(x,y):\n",
        "  return x-y\n",
        "def mul(x,y):\n",
        "  return x*y\n",
        "def div(x,y):\n",
        "  return x/y\n",
        "a=int(input(\"enter first no\"))\n",
        "b=int(input(\"enter second no\"))\n",
        "op=input(\"enter the operator symbol +,- *,/\")\n",
        "if op=='+':\n",
        "  ans=add(a,b)\n",
        "elif op=='-':\n",
        "  ans=sub(a,b)\n",
        "elif op=='*':\n",
        "  ans=mul(a,b)\n",
        "elif op=='/':\n",
        "  ans=div(a,b)\n",
        "else:\n",
        "  ans=\"Invalid Operator\"\n",
        "print(f\"The result is {ans}\")\n",
        "\n",
        "\n"
      ],
      "metadata": {
        "colab": {
          "base_uri": "https://localhost:8080/"
        },
        "id": "1oKvsi7lsWRc",
        "outputId": "ced924b5-b406-4775-bc2e-1ebee3e6fa05"
      },
      "execution_count": 4,
      "outputs": [
        {
          "output_type": "stream",
          "name": "stdout",
          "text": [
            "enter first no356\n",
            "enter second no2\n",
            "enter the operator symbol +,- *,/-\n",
            "The result is 354\n"
          ]
        }
      ]
    },
    {
      "cell_type": "markdown",
      "source": [
        "3. Area of a triangle"
      ],
      "metadata": {
        "id": "OGJRWeN-wNMr"
      }
    },
    {
      "cell_type": "code",
      "source": [
        "def cal_hypotenuse(a,b):\n",
        "  hypotenuse=(a**2 + b**2)**0.5\n",
        "  return hypotenuse\n",
        "\n",
        "a=int(input(\"enter first no\"))\n",
        "b=int(input(\"enter second no\"))\n",
        "ans= cal_hypotenuse(a,b)\n",
        "print(f\"The result is {ans}\")\n",
        "\n"
      ],
      "metadata": {
        "colab": {
          "base_uri": "https://localhost:8080/"
        },
        "id": "Zx9nqn2-wURq",
        "outputId": "a74f2594-1f23-4788-ff74-9d8921eae4f9"
      },
      "execution_count": 7,
      "outputs": [
        {
          "output_type": "stream",
          "name": "stdout",
          "text": [
            "enter first no40\n",
            "enter second no40\n",
            "The result is 56.568542494923804\n"
          ]
        }
      ]
    },
    {
      "cell_type": "markdown",
      "source": [
        "[link text](https://)"
      ],
      "metadata": {
        "id": "dB22XKnkq5p9"
      }
    },
    {
      "cell_type": "markdown",
      "source": [],
      "metadata": {
        "id": "4RrNeyxEq6_-"
      }
    },
    {
      "cell_type": "markdown",
      "source": [],
      "metadata": {
        "id": "0EOkF-vEq7Ec"
      }
    },
    {
      "cell_type": "markdown",
      "source": [],
      "metadata": {
        "id": "phNaXVa3q3lw"
      }
    }
  ]
}